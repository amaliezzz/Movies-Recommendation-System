{
 "cells": [
  {
   "cell_type": "code",
   "execution_count": 99,
   "metadata": {},
   "outputs": [],
   "source": [
    "import pandas as pd"
   ]
  },
  {
   "cell_type": "code",
   "execution_count": 100,
   "metadata": {},
   "outputs": [],
   "source": [
    "movies = pd.read_csv('data/movies.csv')"
   ]
  },
  {
   "cell_type": "code",
   "execution_count": 101,
   "metadata": {},
   "outputs": [
    {
     "data": {
      "text/html": [
       "<div>\n",
       "<style scoped>\n",
       "    .dataframe tbody tr th:only-of-type {\n",
       "        vertical-align: middle;\n",
       "    }\n",
       "\n",
       "    .dataframe tbody tr th {\n",
       "        vertical-align: top;\n",
       "    }\n",
       "\n",
       "    .dataframe thead th {\n",
       "        text-align: right;\n",
       "    }\n",
       "</style>\n",
       "<table border=\"1\" class=\"dataframe\">\n",
       "  <thead>\n",
       "    <tr style=\"text-align: right;\">\n",
       "      <th></th>\n",
       "      <th>movie_title</th>\n",
       "    </tr>\n",
       "  </thead>\n",
       "  <tbody>\n",
       "    <tr>\n",
       "      <th>0</th>\n",
       "      <td>Snow White and the Seven Dwarfs</td>\n",
       "    </tr>\n",
       "    <tr>\n",
       "      <th>1</th>\n",
       "      <td>Pinocchio</td>\n",
       "    </tr>\n",
       "    <tr>\n",
       "      <th>2</th>\n",
       "      <td>Fantasia</td>\n",
       "    </tr>\n",
       "    <tr>\n",
       "      <th>3</th>\n",
       "      <td>Song of the South</td>\n",
       "    </tr>\n",
       "    <tr>\n",
       "      <th>4</th>\n",
       "      <td>Cinderella</td>\n",
       "    </tr>\n",
       "    <tr>\n",
       "      <th>5</th>\n",
       "      <td>20,000 Leagues Under the Sea</td>\n",
       "    </tr>\n",
       "    <tr>\n",
       "      <th>6</th>\n",
       "      <td>Lady and the Tramp</td>\n",
       "    </tr>\n",
       "    <tr>\n",
       "      <th>7</th>\n",
       "      <td>Sleeping Beauty</td>\n",
       "    </tr>\n",
       "    <tr>\n",
       "      <th>8</th>\n",
       "      <td>101 Dalmatians</td>\n",
       "    </tr>\n",
       "    <tr>\n",
       "      <th>9</th>\n",
       "      <td>The Absent Minded Professor</td>\n",
       "    </tr>\n",
       "  </tbody>\n",
       "</table>\n",
       "</div>"
      ],
      "text/plain": [
       "                       movie_title\n",
       "0  Snow White and the Seven Dwarfs\n",
       "1                        Pinocchio\n",
       "2                         Fantasia\n",
       "3                Song of the South\n",
       "4                       Cinderella\n",
       "5     20,000 Leagues Under the Sea\n",
       "6               Lady and the Tramp\n",
       "7                  Sleeping Beauty\n",
       "8                   101 Dalmatians\n",
       "9      The Absent Minded Professor"
      ]
     },
     "execution_count": 101,
     "metadata": {},
     "output_type": "execute_result"
    }
   ],
   "source": [
    "movies.head(10)"
   ]
  },
  {
   "cell_type": "code",
   "execution_count": 102,
   "metadata": {},
   "outputs": [],
   "source": [
    "import spacy"
   ]
  },
  {
   "cell_type": "code",
   "execution_count": 103,
   "metadata": {},
   "outputs": [],
   "source": [
    "nlp = spacy.load('en_core_web_sm')"
   ]
  },
  {
   "cell_type": "code",
   "execution_count": 104,
   "metadata": {},
   "outputs": [],
   "source": [
    "movies['vector'] = movies['movie_title'].apply(lambda x: nlp(x).vector)"
   ]
  },
  {
   "cell_type": "code",
   "execution_count": 105,
   "metadata": {},
   "outputs": [
    {
     "data": {
      "text/html": [
       "<div>\n",
       "<style scoped>\n",
       "    .dataframe tbody tr th:only-of-type {\n",
       "        vertical-align: middle;\n",
       "    }\n",
       "\n",
       "    .dataframe tbody tr th {\n",
       "        vertical-align: top;\n",
       "    }\n",
       "\n",
       "    .dataframe thead th {\n",
       "        text-align: right;\n",
       "    }\n",
       "</style>\n",
       "<table border=\"1\" class=\"dataframe\">\n",
       "  <thead>\n",
       "    <tr style=\"text-align: right;\">\n",
       "      <th></th>\n",
       "      <th>movie_title</th>\n",
       "      <th>vector</th>\n",
       "    </tr>\n",
       "  </thead>\n",
       "  <tbody>\n",
       "    <tr>\n",
       "      <th>0</th>\n",
       "      <td>Snow White and the Seven Dwarfs</td>\n",
       "      <td>[0.137937, -0.3394469, 0.09540685, 0.8174284, ...</td>\n",
       "    </tr>\n",
       "    <tr>\n",
       "      <th>1</th>\n",
       "      <td>Pinocchio</td>\n",
       "      <td>[-0.82611275, -0.9082957, -0.034113552, 1.7222...</td>\n",
       "    </tr>\n",
       "    <tr>\n",
       "      <th>2</th>\n",
       "      <td>Fantasia</td>\n",
       "      <td>[-0.90217406, -0.6636456, 0.17494804, 1.022828...</td>\n",
       "    </tr>\n",
       "    <tr>\n",
       "      <th>3</th>\n",
       "      <td>Song of the South</td>\n",
       "      <td>[0.5560318, -0.53039837, -0.36208475, 0.611392...</td>\n",
       "    </tr>\n",
       "    <tr>\n",
       "      <th>4</th>\n",
       "      <td>Cinderella</td>\n",
       "      <td>[-0.36753276, -0.27493575, 0.8517004, 0.160851...</td>\n",
       "    </tr>\n",
       "  </tbody>\n",
       "</table>\n",
       "</div>"
      ],
      "text/plain": [
       "                       movie_title  \\\n",
       "0  Snow White and the Seven Dwarfs   \n",
       "1                        Pinocchio   \n",
       "2                         Fantasia   \n",
       "3                Song of the South   \n",
       "4                       Cinderella   \n",
       "\n",
       "                                              vector  \n",
       "0  [0.137937, -0.3394469, 0.09540685, 0.8174284, ...  \n",
       "1  [-0.82611275, -0.9082957, -0.034113552, 1.7222...  \n",
       "2  [-0.90217406, -0.6636456, 0.17494804, 1.022828...  \n",
       "3  [0.5560318, -0.53039837, -0.36208475, 0.611392...  \n",
       "4  [-0.36753276, -0.27493575, 0.8517004, 0.160851...  "
      ]
     },
     "execution_count": 105,
     "metadata": {},
     "output_type": "execute_result"
    }
   ],
   "source": [
    "movies.head()"
   ]
  },
  {
   "cell_type": "code",
   "execution_count": 106,
   "metadata": {},
   "outputs": [],
   "source": [
    "from sklearn.metrics.pairwise import cosine_distances"
   ]
  },
  {
   "cell_type": "code",
   "execution_count": 107,
   "metadata": {},
   "outputs": [
    {
     "name": "stdout",
     "output_type": "stream",
     "text": [
      "[ 1.37936994e-01 -3.39446902e-01  9.54068527e-02  8.17428410e-01\n",
      "  1.78216770e-01 -1.06890023e-01  3.50718766e-01  3.20284933e-01\n",
      " -3.29961181e-01 -3.71499248e-02 -3.49489897e-01  3.35015088e-01\n",
      " -2.66405195e-01 -2.48781636e-01 -2.84669995e-01 -1.38846457e-01\n",
      " -2.44008467e-01  6.04850590e-01 -3.37687850e-01 -8.15143585e-01\n",
      " -3.83362889e-01 -1.28349379e-01  3.17627400e-01  1.36378065e-01\n",
      "  4.07170743e-01 -3.07077438e-01  4.49570656e-01 -2.56750882e-01\n",
      " -2.81630307e-01  9.54770863e-01 -4.07356709e-01 -1.38135776e-01\n",
      " -8.59483480e-02  2.08230093e-02  9.61200818e-02 -2.51026541e-01\n",
      "  2.55539984e-01  4.97424126e-01 -3.89385670e-01  2.30627179e-01\n",
      " -5.66519678e-01  3.77396233e-02 -2.68375129e-01  2.67247945e-01\n",
      "  4.33321148e-02  5.68090379e-01 -3.60846668e-01 -4.68238622e-01\n",
      " -5.70670545e-01  3.39580208e-01 -3.07867855e-01  3.59115750e-01\n",
      " -6.44058406e-01 -6.68278039e-01  7.73794428e-02  1.81703910e-01\n",
      " -2.53496438e-01 -1.70873240e-01  7.19134987e-04  4.59252119e-01\n",
      " -3.44655275e-01  5.00379317e-02  1.23337232e-01 -3.36473793e-01\n",
      " -9.40014888e-03  3.07158735e-02  3.55770469e-01  6.88323915e-01\n",
      " -7.12306276e-02 -4.75613803e-01 -1.13448448e-01  1.17309324e-01\n",
      "  5.50272405e-01 -3.61915022e-01  2.93599274e-02 -4.91672844e-01\n",
      " -4.37024146e-01 -7.89640024e-02 -5.62457256e-02 -1.35328874e-01\n",
      "  6.69832379e-02 -1.31595150e-01 -4.03626353e-01  8.38374868e-02\n",
      "  1.64327204e-01  5.33685982e-01 -4.05626856e-02  2.92187810e-01\n",
      " -3.13015193e-01  1.09000904e-02 -2.94224024e-01 -2.12785408e-01\n",
      "  5.33578694e-01  4.42311652e-02  1.86662432e-02  3.58305722e-01]\n"
     ]
    },
    {
     "name": "stderr",
     "output_type": "stream",
     "text": [
      "C:\\Users\\eserize\\AppData\\Local\\Temp\\ipykernel_17112\\4281132604.py:3: FutureWarning: Series.__getitem__ treating keys as positions is deprecated. In a future version, integer keys will always be treated as labels (consistent with DataFrame behavior). To access a value by position, use `ser.iloc[pos]`\n",
      "  v = np.array(movies.iloc[0][1])\n"
     ]
    }
   ],
   "source": [
    "import numpy as np\n",
    "\n",
    "v = np.array(movies.iloc[0][1])\n",
    "print(v)"
   ]
  },
  {
   "cell_type": "code",
   "execution_count": 108,
   "metadata": {},
   "outputs": [],
   "source": [
    "\n",
    "\n",
    "arr = np.ones(96)\n",
    "\n"
   ]
  },
  {
   "cell_type": "code",
   "execution_count": 110,
   "metadata": {},
   "outputs": [
    {
     "name": "stdout",
     "output_type": "stream",
     "text": [
      "1.0000000000000002\n"
     ]
    }
   ],
   "source": [
    "def cos_dist(a, b):\n",
    "    \n",
    "    return a.dot(b)  / ( np.linalg.norm(a) * np.linalg.norm(b)  )\n",
    "\n",
    "print(cos_dist(arr, arr))\n"
   ]
  },
  {
   "cell_type": "code",
   "execution_count": 111,
   "metadata": {},
   "outputs": [],
   "source": [
    "movies.to_csv('data/movies.csv', index= False)"
   ]
  }
 ],
 "metadata": {
  "kernelspec": {
   "display_name": "base",
   "language": "python",
   "name": "python3"
  },
  "language_info": {
   "codemirror_mode": {
    "name": "ipython",
    "version": 3
   },
   "file_extension": ".py",
   "mimetype": "text/x-python",
   "name": "python",
   "nbconvert_exporter": "python",
   "pygments_lexer": "ipython3",
   "version": "3.12.7"
  }
 },
 "nbformat": 4,
 "nbformat_minor": 2
}
